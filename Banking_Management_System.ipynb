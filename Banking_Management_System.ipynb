{
  "nbformat": 4,
  "nbformat_minor": 0,
  "metadata": {
    "colab": {
      "provenance": [],
      "authorship_tag": "ABX9TyPaSsuge7BhEYGBRDL+UDZE",
      "include_colab_link": true
    },
    "kernelspec": {
      "name": "python3",
      "display_name": "Python 3"
    },
    "language_info": {
      "name": "python"
    }
  },
  "cells": [
    {
      "cell_type": "markdown",
      "metadata": {
        "id": "view-in-github",
        "colab_type": "text"
      },
      "source": [
        "<a href=\"https://colab.research.google.com/github/rahuljha0810/Monotonic-Stack/blob/main/Banking_Management_System.ipynb\" target=\"_parent\"><img src=\"https://colab.research.google.com/assets/colab-badge.svg\" alt=\"Open In Colab\"/></a>"
      ]
    },
    {
      "cell_type": "code",
      "execution_count": null,
      "metadata": {
        "colab": {
          "base_uri": "https://localhost:8080/"
        },
        "id": "CpxQgPdJaW3_",
        "outputId": "45919c88-5da9-47c7-bf5a-df2494626371"
      },
      "outputs": [
        {
          "output_type": "stream",
          "name": "stdout",
          "text": [
            "       Userid  Password  Balance\n",
            "Deep   114477     12345    40000\n",
            "Akash  112255     45678    25000\n",
            "Neha   116688    787878    12000\n",
            "Sumit  224411    454545    47000\n",
            "Rahul  665544    969696   100000\n"
          ]
        }
      ],
      "source": [
        "import pandas as pd\n",
        "import numpy as np\n",
        "Name=[\"Deep\",\"Akash\",\"Neha\",\"Sumit\",\"Rahul\"]\n",
        "A={\"Userid\":[114477,112255,116688,224411,665544],\n",
        "   \"Password\":[12345,45678,787878,454545,969696],\n",
        "   \"Balance\":[40000,25000,12000,47000,100000]}\n",
        "MyData=pd.DataFrame(A,index=Name)\n",
        "print(MyData)"
      ]
    },
    {
      "cell_type": "code",
      "source": [
        "while True:\n",
        "  print(\"Type Login To Access You Account\")\n",
        "  print(\"Type Exit To Exit Our Application\")\n",
        "  Inp=input(\"Enter Your Option: \").lower()\n",
        "  if Inp==\"login\" or Inp==\"exit\":\n",
        "    break\n",
        "\n",
        "if Inp==\"login\":\n",
        "  print(\"Welcome To Our Portal\")\n",
        "  print(\"prosseing...............\")\n",
        "  print(\"prosseing...............\")\n",
        "  print(\"prosseing...............\")\n",
        "  print(\"prosseing...............\")\n",
        "  Nam=input(\"Enter your Name: \")\n",
        "  if Nam in MyData.index:\n",
        "    Uid=int(input(\"Enter Your User Id: \"))\n",
        "    if Uid==MyData[\"Userid\"][Nam]:\n",
        "      Pass=int(input(\"Enter Your Password: \"))\n",
        "      if Pass==MyData[\"Password\"][Nam]:\n",
        "        print(\"You Are Login Now\")\n",
        "        print(\"Enter 1 for diposit amount\")\n",
        "        print(\"Enter 2 for deleting account\")\n",
        "        print(\"Enter 3 for renaming account\")\n",
        "        print(\"Enter 4 for exit\")\n",
        "        opt=input(\"Enter your Choice: \")\n",
        "        if opt==\"1\":\n",
        "          namt=int(input(\"Enter Amount YOu want to deposit\"))\n",
        "          MyData[\"Balance\"][Nam]+=namt\n",
        "          print(\"Your New Balance \",MyData[\"Balance\"][Nam])\n",
        "        elif opt==\"2\":\n",
        "          MyData.drop(Nam,axis=0,inplace=True)\n",
        "          print(MyData)\n",
        "        elif opt==\"3\":\n",
        "          nwnm=input(\"Enter New Name: \")\n",
        "          MyData.rename(index={Nam:nwnm},inplace=True)\n",
        "          print(MyData)\n",
        "        else:\n",
        "          print(\"You are Exit Now Run Me Again\")\n",
        "\n",
        "      else:\n",
        "        print(\"Entered Password Is wrong\")\n",
        "    else:\n",
        "      print(\"Wrong uSer iD\")\n",
        "  else:\n",
        "    print(\"User Does Not Exist Try Again\")\n"
      ],
      "metadata": {
        "colab": {
          "base_uri": "https://localhost:8080/"
        },
        "id": "d7Eab-LMapwP",
        "outputId": "1fd215e8-fb3b-4da1-ca4c-da2596607f91"
      },
      "execution_count": null,
      "outputs": [
        {
          "output_type": "stream",
          "name": "stdout",
          "text": [
            "Type Login To Access You Account\n",
            "Type Exit To Exit Our Application\n",
            "Enter Your Option: login\n",
            "Welcome To Our Portal\n",
            "prosseing...............\n",
            "prosseing...............\n",
            "prosseing...............\n",
            "prosseing...............\n",
            "Enter your Name: Rahul\n",
            "Enter Your User Id: 665544\n",
            "Enter Your Password: 969696\n",
            "You Are Login Now\n",
            "Enter 1 for diposit amount\n",
            "Enter 2 for deleting account\n",
            "Enter 3 for renaming account\n",
            "Enter 4 for exit\n",
            "Enter your Choice: 2\n",
            "       Userid  Password  Balance\n",
            "Deep   114477     12345    40000\n",
            "Akash  112255     45678    25000\n",
            "Neha   116688    787878    12000\n",
            "Sumit  224411    454545    47000\n"
          ]
        }
      ]
    },
    {
      "cell_type": "code",
      "source": [
        "print(MyData)\n",
        "MyData.rename(index={\"Neha\":\"Sachin\"},inplace=True)\n",
        "MyData.rename(columns={\"Userid\":\"UID\"},inplace=True)\n",
        "print(MyData)"
      ],
      "metadata": {
        "colab": {
          "base_uri": "https://localhost:8080/"
        },
        "id": "qgzKT2bba2S4",
        "outputId": "10818813-157f-4378-e677-3c314bc046f7"
      },
      "execution_count": null,
      "outputs": [
        {
          "output_type": "stream",
          "name": "stdout",
          "text": [
            "       Userid  Password  Balance\n",
            "Deep   114477     12345    40000\n",
            "Akash  112255     45678    25000\n",
            "Neha   116688    787878    12000\n",
            "Sumit  224411    454545    47000\n",
            "jha    665544    969696   100000\n",
            "           UID  Password  Balance\n",
            "Deep    114477     12345    40000\n",
            "Akash   112255     45678    25000\n",
            "Sachin  116688    787878    12000\n",
            "Sumit   224411    454545    47000\n",
            "jha     665544    969696   100000\n"
          ]
        }
      ]
    }
  ]
}